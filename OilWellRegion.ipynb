{
 "cells": [
  {
   "cell_type": "markdown",
   "metadata": {},
   "source": [
    "# Выбор локации для скважины"
   ]
  },
  {
   "cell_type": "markdown",
   "metadata": {},
   "source": [
    "Допустим, вы работаете в добывающей компании «ГлавРосГосНефть». Нужно решить, где бурить новую скважину.\n",
    "\n",
    "Вам предоставлены пробы нефти в трёх регионах: в каждом 10 000 месторождений, где измерили качество нефти и объём её запасов. Постройте модель машинного обучения, которая поможет определить регион, где добыча принесёт наибольшую прибыль. Проанализируйте возможную прибыль и риски техникой *Bootstrap.*\n",
    "\n",
    "Шаги для выбора локации:\n",
    "\n",
    "- В избранном регионе ищут месторождения, для каждого определяют значения признаков;\n",
    "- Строят модель и оценивают объём запасов;\n",
    "- Выбирают месторождения с самым высокими оценками значений. Количество месторождений зависит от бюджета компании и стоимости разработки одной скважины;\n",
    "- Прибыль равна суммарной прибыли отобранных месторождений."
   ]
  },
  {
   "cell_type": "markdown",
   "metadata": {},
   "source": [
    "## Загрузка и подготовка данных"
   ]
  },
  {
   "cell_type": "code",
   "execution_count": null,
   "metadata": {},
   "outputs": [],
   "source": [
    "import pandas as pd\n",
    "import numpy as np\n",
    "from sklearn.model_selection import train_test_split\n",
    "from sklearn.metrics import f1_score\n",
    "from sklearn.utils import shuffle\n",
    "from sklearn.linear_model import LogisticRegression\n",
    "from sklearn.linear_model import LinearRegression\n",
    "from sklearn.metrics import accuracy_score, roc_auc_score, confusion_matrix, recall_score,precision_score\n",
    "from sklearn.preprocessing import MinMaxScaler\n",
    "from sklearn.preprocessing import OneHotEncoder \n",
    "from sklearn.metrics import mean_squared_error, r2_score\n",
    "import matplotlib.pyplot as plt\n",
    "import seaborn as sns"
   ]
  },
  {
   "cell_type": "markdown",
   "metadata": {},
   "source": [
    "<div class=\"alert alert-block alert-success\">\n",
    "<b>Успех:</b> Импорты  на месте\n",
    "</div>"
   ]
  },
  {
   "cell_type": "code",
   "execution_count": null,
   "metadata": {},
   "outputs": [],
   "source": [
    "data0 = pd.read_csv('/datasets/geo_data_0.csv')\n",
    "data1 = pd.read_csv('/datasets/geo_data_1.csv')\n",
    "data2 = pd.read_csv('/datasets/geo_data_2.csv')"
   ]
  },
  {
   "cell_type": "markdown",
   "metadata": {},
   "source": [
    "### 1 регион"
   ]
  },
  {
   "cell_type": "code",
   "execution_count": null,
   "metadata": {},
   "outputs": [],
   "source": [
    "data0.head()"
   ]
  },
  {
   "cell_type": "code",
   "execution_count": null,
   "metadata": {},
   "outputs": [],
   "source": [
    "data0.info()"
   ]
  },
  {
   "cell_type": "code",
   "execution_count": null,
   "metadata": {},
   "outputs": [],
   "source": [
    "data0.describe()"
   ]
  },
  {
   "cell_type": "code",
   "execution_count": null,
   "metadata": {},
   "outputs": [],
   "source": [
    "data0.duplicated().sum()"
   ]
  },
  {
   "cell_type": "markdown",
   "metadata": {},
   "source": [
    "### 2 Регион"
   ]
  },
  {
   "cell_type": "code",
   "execution_count": null,
   "metadata": {},
   "outputs": [],
   "source": [
    "data1.head()"
   ]
  },
  {
   "cell_type": "code",
   "execution_count": null,
   "metadata": {},
   "outputs": [],
   "source": [
    "data1.info()"
   ]
  },
  {
   "cell_type": "code",
   "execution_count": null,
   "metadata": {},
   "outputs": [],
   "source": [
    "data1.describe()"
   ]
  },
  {
   "cell_type": "code",
   "execution_count": null,
   "metadata": {},
   "outputs": [],
   "source": [
    "data0.duplicated().sum()"
   ]
  },
  {
   "cell_type": "markdown",
   "metadata": {},
   "source": [
    "### 3 регион"
   ]
  },
  {
   "cell_type": "code",
   "execution_count": null,
   "metadata": {},
   "outputs": [],
   "source": [
    "data2.head()"
   ]
  },
  {
   "cell_type": "code",
   "execution_count": null,
   "metadata": {},
   "outputs": [],
   "source": [
    "data2.info()"
   ]
  },
  {
   "cell_type": "code",
   "execution_count": null,
   "metadata": {},
   "outputs": [],
   "source": [
    "data2.describe()"
   ]
  },
  {
   "cell_type": "code",
   "execution_count": null,
   "metadata": {},
   "outputs": [],
   "source": [
    "data2.duplicated().sum()"
   ]
  },
  {
   "cell_type": "code",
   "execution_count": null,
   "metadata": {},
   "outputs": [],
   "source": [
    "#  удалю столбцы с айди\n",
    "data0.drop(['id'], axis=1, inplace=True)\n",
    "#print(data0.head())\n",
    "data1.drop(['id'], axis=1, inplace=True)\n",
    "#print(data1.head())\n",
    "data2.drop(['id'], axis=1, inplace=True)\n",
    "#print(data2.head())"
   ]
  },
  {
   "cell_type": "markdown",
   "metadata": {},
   "source": [
    "### Вывод\n",
    "Данные в порядке, пропусков нет"
   ]
  },
  {
   "cell_type": "markdown",
   "metadata": {},
   "source": [
    "<div class=\"alert alert-block alert-success\">\n",
    "<b>Успех:</b> Данные осмотрены, но можно было бы еще как минимум изучить корреляции, так как мы планируем использовать линейные модели, а для них это важно. \n",
    "</div>\n",
    "\n",
    "\n",
    "<div class=\"alert alert-block alert-info\">\n",
    "<b>Совет:</b>  Советую обратить внимание на библиотеки sweetviz и pandas_profiling помогут в проведении более тщательного EDA анализа. Исследовательский анализ можно делать и с помощью ручного вызова функций дефолтных библиотек. Данные библиотеки хороши для максимизации комфорта презентации результатов анализа бизнес-пользователям.  \n",
    "\n",
    "Очень просты в использоовании, на вход кладется датафрейм: pandas_profiling.ProfileReport(df) \n",
    "</div>\n"
   ]
  },
  {
   "cell_type": "markdown",
   "metadata": {},
   "source": [
    "## Обучение и проверка модели"
   ]
  },
  {
   "cell_type": "markdown",
   "metadata": {},
   "source": [
    "\n",
    "Обучите и проверьте модель для каждого региона:\n",
    "\n",
    " 2.1. Разбейте данные на обучающую и валидационную выборки в соотношении 75:25.\n",
    " \n",
    " 2.2. Обучите модель и сделайте предсказания на валидационной выборке.\n",
    " \n",
    " 2.3. Сохраните предсказания и правильные ответы на валидационной выборке.\n",
    " \n",
    " 2.4. Напечатайте на экране средний запас предсказанного сырья и RMSE модели.\n",
    " \n",
    " 2.5. Проанализируйте результаты."
   ]
  },
  {
   "cell_type": "code",
   "execution_count": null,
   "metadata": {},
   "outputs": [],
   "source": [
    "# создам функцию для обучения модели\n",
    "def split_and_train(data):\n",
    "    \n",
    "    features = data.drop([\"product\"], axis=1)\n",
    "    target = data[\"product\"]\n",
    "    features_train, features_valid, target_train, target_valid = train_test_split(features, \n",
    "                                                                                  target, \n",
    "                                                                                  test_size=0.25, \n",
    "                                                                                  random_state=1)\n",
    "    scaler = MinMaxScaler()\n",
    "    features_train = scaler.fit_transform(features_train)\n",
    "    features_valid = scaler.transform(features_valid)\n",
    "    \n",
    "    model = LinearRegression(normalize=False)\n",
    "    model.fit(features_train, target_train)\n",
    "    predictions = model.predict(features_valid)\n",
    "    predictions = pd.Series(predictions)\n",
    "    rmse = (mean_squared_error(predictions, target_valid))**(0.5)\n",
    "    mean = predictions.mean()\n",
    "    \n",
    "    print(\"RMSE:{0:.2f}\".format(rmse))\n",
    "    print(\"Mean: {0:.2f}\".format(mean))\n",
    "    \n",
    "    return (predictions, target_valid.reset_index(drop=True), rmse)"
   ]
  },
  {
   "cell_type": "code",
   "execution_count": null,
   "metadata": {},
   "outputs": [],
   "source": [
    "#ну и расчет \n",
    "i = 1\n",
    "for region in [data0,data1,data2]:\n",
    "    print(f\"Регион {i}\")\n",
    "    split_and_train(region)\n",
    "    i+=1"
   ]
  },
  {
   "cell_type": "code",
   "execution_count": null,
   "metadata": {},
   "outputs": [],
   "source": [
    "#  predictions, true values и rmse\n",
    "predictions0, validation0, rmse0 = split_and_train(data0)\n",
    "predictions1, validation1, rmse1 = split_and_train(data1)\n",
    "predictions2, validation2, rmse2 = split_and_train(data2)"
   ]
  },
  {
   "cell_type": "markdown",
   "metadata": {},
   "source": [
    "### Вывод\n",
    "Модели обучены и проверены на качество предсказания метрикой RMSE, которая определяет величину среднеквадратичной ошибки в предсказании модели. Исходя из полученных данных, можно заметить, что величина RMSE во втором регионе сильно отличается от двух других."
   ]
  },
  {
   "cell_type": "markdown",
   "metadata": {},
   "source": [
    "<div class=\"alert alert-block alert-success\">\n",
    "<b>Успех:</b> Шаг проделан лаконично, все метрики посчитаны корректно\n",
    "</div> \n",
    "\n",
    "\n"
   ]
  },
  {
   "cell_type": "markdown",
   "metadata": {},
   "source": [
    "## Подготовка к расчёту прибыли"
   ]
  },
  {
   "cell_type": "markdown",
   "metadata": {},
   "source": [
    "Подготовьтесь к расчёту прибыли:\n",
    "\n",
    " 3.1. Все ключевые значения для расчётов сохраните в отдельных переменных.\n",
    " \n",
    " 3.2. Рассчитайте достаточный объём сырья для безубыточной разработки новой скважины. Сравните полученный объём сырья со средним запасом в каждом регионе. \n",
    " \n",
    " 3.3. Напишите выводы по этапу подготовки расчёта прибыли."
   ]
  },
  {
   "cell_type": "markdown",
   "metadata": {},
   "source": [
    "При разведке региона исследуюем 500 точек, из которых с помощью машинного обучения выберем 200 лучших для разработки.\n",
    "Бюджет на разработку скважин в регионе — 10 млрд рублей.\n",
    "При нынешних ценах один баррель сырья приносит 450 рублей дохода. Доход с каждой единицы продукта составляет 450 тыс.\n",
    "рублей, поскольку объём указан в тысячах баррелей.\n",
    "После оценки рисков оставим лишь те регионы, в которых вероятность убытков меньше 2.5%. Среди них выберем регион с наибольшей средней прибылью."
   ]
  },
  {
   "cell_type": "code",
   "execution_count": null,
   "metadata": {},
   "outputs": [],
   "source": [
    "# создаю переменные\n",
    "well = 500 # При разведке региона исследуют 500 точек\n",
    "well_model = 200  #с помощью машинного обучения выбирают 200 точек лучших для разработки\n",
    "budget = 10e9 # Бюджет на разработку 200 скважин в регионе\n",
    "barrel_profit = 450 # доход с каждого барреля\n",
    "product_profit = barrel_profit * 1000 # доход с каждой единицы продукта\n",
    "risk = 0.025 # порог вероятности убытков, максимальное допустимое значение\n",
    "# мин объем сырья\n",
    "necessary_product = budget / well_model / product_profit\n",
    "print('Необходимый объём для окупаемости заложенного бюджета:', necessary_product)"
   ]
  },
  {
   "cell_type": "markdown",
   "metadata": {},
   "source": [
    "\n",
    "<div class=\"alert alert-block alert-info\">\n",
    "    \n",
    "<b>Совет:</b> Константы принято записывать в ВЕРХНЕМ РЕГИСТРЕ =) Читем здесь https://pythonworld.ru/osnovy/pep-8-rukovodstvo-po-napisaniyu-koda-na-python.html#section-29\n",
    "    \n",
    "\n",
    "</div> \n"
   ]
  },
  {
   "cell_type": "code",
   "execution_count": null,
   "metadata": {},
   "outputs": [],
   "source": [
    "#запасы\n",
    "product_mean0 = data0['product'].mean()\n",
    "product_mean1 = data1['product'].mean()\n",
    "product_mean2 = data2['product'].mean()\n"
   ]
  },
  {
   "cell_type": "code",
   "execution_count": null,
   "metadata": {},
   "outputs": [],
   "source": [
    "print('Cредний запас сырья в 1 регионе: %.2f '%product_mean0)\n",
    "print('Cредний запас сырья в 2 регионе: %.2f '%product_mean1)\n",
    "print('Cредний запас сырья в 3 регионе: %.2f '%product_mean2)"
   ]
  },
  {
   "cell_type": "code",
   "execution_count": null,
   "metadata": {},
   "outputs": [],
   "source": [
    "# отклонение от среднего в регионе 1 \n",
    "mean0 = product_mean0 - necessary_product\n",
    "mean0*1000"
   ]
  },
  {
   "cell_type": "code",
   "execution_count": null,
   "metadata": {},
   "outputs": [],
   "source": [
    "# отклонение от среднего в регионе 2 \n",
    "\n",
    "mean1 = product_mean1 - necessary_product\n",
    "mean1*1000"
   ]
  },
  {
   "cell_type": "code",
   "execution_count": null,
   "metadata": {},
   "outputs": [],
   "source": [
    "# отклонение от среднего в регионе 3\n",
    "\n",
    "mean2 = product_mean2 - necessary_product\n",
    "mean2*1000"
   ]
  },
  {
   "cell_type": "markdown",
   "metadata": {},
   "source": [
    "### Вывод"
   ]
  },
  {
   "cell_type": "markdown",
   "metadata": {},
   "source": [
    "В каждом из трёх регионов средни запас сырья скважины меньше полученного значения достаточного объёма сырья на 18.5, 42.3, 16.1 тыс. баррелей. На основании данного заключения можно отметить высокий риск разработок скважин преимущественно в первом регионе"
   ]
  },
  {
   "cell_type": "markdown",
   "metadata": {},
   "source": [
    "<div class=\"alert alert-block alert-success\">\n",
    "<b>Успех:</b> Значение для безубыточной разработки посчитано верно, с выводом согласен  \n",
    "</div>"
   ]
  },
  {
   "cell_type": "markdown",
   "metadata": {},
   "source": [
    "## Расчёт прибыли и рисков "
   ]
  },
  {
   "cell_type": "markdown",
   "metadata": {},
   "source": [
    "Напишите функцию для расчёта прибыли по выбранным скважинам и предсказаниям модели:\n",
    "\n",
    " 4.1. Выберите скважины с максимальными значениями предсказаний. \n",
    " \n",
    " 4.2. Просуммируйте целевое значение объёма сырья, соответствующее этим предсказаниям.\n",
    " \n",
    " 4.3. Рассчитайте прибыль для полученного объёма сырья."
   ]
  },
  {
   "cell_type": "code",
   "execution_count": null,
   "metadata": {},
   "outputs": [],
   "source": [
    "#predictions0"
   ]
  },
  {
   "cell_type": "code",
   "execution_count": null,
   "metadata": {},
   "outputs": [],
   "source": [
    "#sorted0 = pd.Series(predictions0, index=validation0.index).sort_values(ascending=False)\n",
    "#max0 = sorted0[:200]\n",
    "#max0"
   ]
  },
  {
   "cell_type": "code",
   "execution_count": null,
   "metadata": {},
   "outputs": [],
   "source": [
    "#max0_sum = max0.sum()\n",
    "#print('Суммарный запас сырья в 200 лучших скважинах составит: %.2f тыс.баррелей'%max0_sum)"
   ]
  },
  {
   "cell_type": "code",
   "execution_count": null,
   "metadata": {},
   "outputs": [],
   "source": [
    "#profit0=(max0_sum*barrel_profit)-10000000\n",
    "#print('Прибыль для полученного объёма сырья составит %.2f тыс.рублей'%profit0)"
   ]
  },
  {
   "cell_type": "code",
   "execution_count": null,
   "metadata": {},
   "outputs": [],
   "source": [
    "#напишу функцию для расчета суммарного запаса\n",
    "def profit(predict,target,count):\n",
    "    sorted_p = pd.Series(predict, index=target.index).sort_values(ascending=False)\n",
    "    s_max = sorted_p[:count].sum()\n",
    "    profit=(s_max*barrel_profit)-10000000\n",
    "    print('Суммарный запас сырья в 200 лучших скважинах составит: %.2f тыс.баррелей'%s_max)\n",
    "    print('Прибыль для полученного объёма сырья составит %.2f млн.рублей'%(profit/1000))"
   ]
  },
  {
   "cell_type": "markdown",
   "metadata": {},
   "source": [
    "<div class=\"alert alert-block alert-success\">\n",
    "<b>Успех:</b> Ф-ция для подсчета прибыли определена верно\n",
    "</div>"
   ]
  },
  {
   "cell_type": "markdown",
   "metadata": {},
   "source": [
    "\n",
    "<div class=\"alert alert-block alert-info\">\n",
    "<b>Совет:</b> Что за магические число? 10000000?\n",
    "</div>"
   ]
  },
  {
   "cell_type": "code",
   "execution_count": null,
   "metadata": {},
   "outputs": [],
   "source": [
    "profit(predictions0,validation0,200)\n"
   ]
  },
  {
   "cell_type": "code",
   "execution_count": null,
   "metadata": {},
   "outputs": [],
   "source": [
    "profit(predictions1,validation1,200)\n"
   ]
  },
  {
   "cell_type": "code",
   "execution_count": null,
   "metadata": {},
   "outputs": [],
   "source": [
    "profit(predictions2,validation2,200)\n"
   ]
  },
  {
   "cell_type": "markdown",
   "metadata": {},
   "source": [
    "### Вывод"
   ]
  },
  {
   "cell_type": "markdown",
   "metadata": {},
   "source": [
    "Все три региона потенциально прибыльные, для определения наиболее выгодного с точки зрения окупаемости вложений и рисков убытка проведём расчёт вероятности техникой бутстреп"
   ]
  },
  {
   "cell_type": "markdown",
   "metadata": {},
   "source": [
    "## Посчитайте риски и прибыль для каждого региона"
   ]
  },
  {
   "cell_type": "markdown",
   "metadata": {},
   "source": [
    "5.1. Примените технику Bootstrap с 1000 выборок, чтобы найти распределение прибыли.\n",
    "\n",
    " 5.2. Найдите среднюю прибыль, 95%-й доверительный интервал и риск убытков. Убыток — это отрицательная прибыль.\n",
    " \n",
    " 5.3. Напишите выводы: предложите регион для разработки скважин и обоснуйте выбор."
   ]
  },
  {
   "cell_type": "markdown",
   "metadata": {},
   "source": [
    "\n",
    "\n",
    "well = 500 # При разведке региона исследуют 500 точек\n",
    "well_model = 200  #с помощью машинного обучения выбирают 200 точек лучших для разработки\n",
    "budget = 10e9 # Бюджет на разработку 200 скважин в регионе\n",
    "barrel_profit = 450 # доход с каждого барреля\n",
    "product_profit = barrel_profit * 1000 # доход с каждой единицы продукта\n",
    "risk = 0.025 # порог вероятности убытков, максимальное допустимое значение\n"
   ]
  },
  {
   "cell_type": "code",
   "execution_count": null,
   "metadata": {},
   "outputs": [],
   "source": [
    "def profit(target, predictions, well_model):\n",
    "    p_sorted = predictions.sort_values(ascending=False)\n",
    "    selected = target[p_sorted.index][:200]\n",
    "    return (barrel_profit*1000) * selected.sum() - budget"
   ]
  },
  {
   "cell_type": "markdown",
   "metadata": {},
   "source": [
    "\n",
    "<div class=\"alert alert-block alert-info\">\n",
    "<b>Совет:</b> Зачем дублировать функцию прибыли?\n",
    "</div>"
   ]
  },
  {
   "cell_type": "code",
   "execution_count": null,
   "metadata": {
    "scrolled": true
   },
   "outputs": [],
   "source": [
    "#применяю технику бутстреп\n",
    "target = [validation0, validation1, validation2]\n",
    "predictions = [predictions0, predictions1, predictions2]\n",
    "regions = ['1 регион', '2 регион', '3 регион']\n",
    "\n",
    "state = np.random.RandomState(12345)\n",
    "\n",
    "for m in range(len(target)):\n",
    "    values = []\n",
    "    for i in range(1000):\n",
    "        target_subsample = target[m].sample(n=well, replace=True, random_state=state)\n",
    "        predictions_subsample = predictions[m].loc[target_subsample.index]\n",
    "        values.append(profit(\n",
    "            target_subsample.reset_index(drop=True), predictions_subsample.reset_index(drop=True), well_model)\n",
    "                     )\n",
    "\n",
    "    values = pd.Series(values)\n",
    "    lower = values.quantile(.025)\n",
    "    upper = values.quantile(.975)\n",
    "\n",
    "    mean = values.mean()\n",
    "    \n",
    "    risk = sum(values < 0) / values.count() * 100\n",
    "    \n",
    "    print(regions[m])\n",
    "    print(\"Средняя возможная прибыль:\", mean)\n",
    "    print(\"95%-доверительный интервал:\", \"от\", lower, \"до\", upper)\n",
    "    print(\"Вероятность убытков:\", risk, \"%\")"
   ]
  },
  {
   "cell_type": "markdown",
   "metadata": {},
   "source": [
    "\n",
    "<div class=\"alert alert-block alert-success\">\n",
    "<b>Успех:</b> С бутстрапом тоже все в порядке, метрики считаются верным образом!  \n",
    "</div>\n"
   ]
  },
  {
   "cell_type": "markdown",
   "metadata": {},
   "source": [
    "### Вывод"
   ]
  },
  {
   "cell_type": "markdown",
   "metadata": {},
   "source": [
    "Вероятность убытков во втором регионе минимальная и возможная средняя прибыль у него самая высокая"
   ]
  },
  {
   "cell_type": "markdown",
   "metadata": {},
   "source": [
    "## Вывод"
   ]
  },
  {
   "cell_type": "markdown",
   "metadata": {},
   "source": [
    "\n",
    "Для выполнения поставленной задачи были обработаны данные трёх регионов.\n",
    "\n",
    "\n",
    "Наиболее точные предсказания оказались у модели второго региона: средний запас сырья в скважине 68.83 при отклонении 0.89, предсказания по первому и третьему региону получились схожими между собой.\n",
    "\n",
    "Средняя прибыль во втором регионе составит 476 млн.рублей. Два других региона не прошли отбор по минимально допустимому порогу убытка в 2,5%. Таким образом не смотря на сравнительно меньшие запасы сырья, по сравнению с другими регионами, средняя доходность со скважин во втором регионе прогнозируется выше других.\n",
    "\n"
   ]
  },
  {
   "cell_type": "markdown",
   "metadata": {},
   "source": [
    "<div class=\"alert alert-block alert-success\">\n",
    "<b>Успех:</b> Отлично, проведено детальное исследование и был выбран правильный регион!\n",
    "</div>\n",
    "\n",
    "\n",
    "\n",
    "\n",
    "\n",
    "<div class=\"alert alert-block alert-info\">\n",
    "<b>Совет: </b> Если интересно изучить тему бутстрапа глубже - я оставлю  ниже несколько интересных и полезных ссылок по теме:\n",
    "        \n",
    "1. \"Bootstrap Hypothesis Testing in Statistics with Example\" \n",
    "        \n",
    "https://www.youtube.com/watch?v=9STZ7MxkNVg\n",
    "        \n",
    "2. \"How to Calculate Bootstrap Confidence Intervals For Machine Learning Results in Python\" \n",
    "        \n",
    "https://machinelearningmastery.com/calculate-bootstrap-confidence-intervals-machine-learning-results-python/\n",
    "        \n",
    "3. \"A Gentle Introduction to the Bootstrap Method\" \n",
    "\n",
    "https://machinelearningmastery.com/a-gentle-introduction-to-the-bootstrap-method/\n",
    "        \n",
    "4. \"An Introduction to the Bootstrap Method\" \n",
    "        \n",
    "https://towardsdatascience.com/an-introduction-to-the-bootstrap-method-58bcb51b4d60#:~:text=The%20basic%20idea%20of%20bootstrap,population%20mean)%20on%20sample%20data.&amp;text=A%20sample%20from%20population%20with%20sample%20size%20n\n",
    "        \n",
    "5. \"Bootstrapping and Resampling in Statistics with Example\" \n",
    "        \n",
    "        \n",
    "https://www.youtube.com/watch?v=O_Fj4q8lgmc\n",
    "</div>\n"
   ]
  },
  {
   "cell_type": "markdown",
   "metadata": {},
   "source": [
    ":)"
   ]
  },
  {
   "cell_type": "markdown",
   "metadata": {},
   "source": [
    "<div class=\"alert alert-block alert-success\">\n",
    "<b>Успех:</b> =)\n",
    "</div>\n"
   ]
  },
  {
   "cell_type": "markdown",
   "metadata": {},
   "source": [
    "## Чек-лист готовности проекта"
   ]
  },
  {
   "cell_type": "markdown",
   "metadata": {},
   "source": [
    "Поставьте 'x' в выполненных пунктах. Далее нажмите Shift+Enter."
   ]
  },
  {
   "cell_type": "markdown",
   "metadata": {},
   "source": [
    "- [x]  Jupyter Notebook открыт\n",
    "- [ ]  Весь код выполняется без ошибок\n",
    "- [ ]  Ячейки с кодом расположены в порядке исполнения\n",
    "- [ ]  Выполнен шаг 1: данные подготовлены\n",
    "- [ ]  Выполнен шаг 2: модели обучены и проверены\n",
    "    - [ ]  Данные корректно разбиты на обучающую и валидационную выборки\n",
    "    - [ ]  Модели обучены, предсказания сделаны\n",
    "    - [ ]  Предсказания и правильные ответы на валидационной выборке сохранены\n",
    "    - [ ]  На экране напечатаны результаты\n",
    "    - [ ]  Сделаны выводы\n",
    "- [ ]  Выполнен шаг 3: проведена подготовка к расчёту прибыли\n",
    "    - [ ]  Для всех ключевых значений созданы константы Python\n",
    "    - [ ]  Посчитано минимальное среднее количество продукта в месторождениях региона, достаточное для разработки\n",
    "    - [ ]  По предыдущему пункту сделаны выводы\n",
    "    - [ ]  Написана функция расчёта прибыли\n",
    "- [ ]  Выполнен шаг 4: посчитаны риски и прибыль\n",
    "    - [ ]  Проведена процедура *Bootstrap*\n",
    "    - [ ]  Все параметры бутстрепа соответствуют условию\n",
    "    - [ ]  Найдены все нужные величины\n",
    "    - [ ]  Предложен регион для разработки месторождения\n",
    "    - [ ]  Выбор региона обоснован"
   ]
  },
  {
   "cell_type": "code",
   "execution_count": null,
   "metadata": {},
   "outputs": [],
   "source": []
  }
 ],
 "metadata": {
  "ExecuteTimeLog": [
   {
    "duration": 1262,
    "start_time": "2023-02-05T20:54:36.947Z"
   },
   {
    "duration": 443,
    "start_time": "2023-02-05T20:57:12.759Z"
   },
   {
    "duration": 1535,
    "start_time": "2023-02-05T20:57:32.005Z"
   },
   {
    "duration": 165,
    "start_time": "2023-02-05T20:58:51.088Z"
   },
   {
    "duration": 955,
    "start_time": "2023-02-05T20:59:07.645Z"
   },
   {
    "duration": 15,
    "start_time": "2023-02-05T20:59:09.123Z"
   },
   {
    "duration": 24,
    "start_time": "2023-02-05T20:59:39.275Z"
   },
   {
    "duration": 37,
    "start_time": "2023-02-05T21:00:50.439Z"
   },
   {
    "duration": 56,
    "start_time": "2023-02-05T21:01:05.625Z"
   },
   {
    "duration": 13,
    "start_time": "2023-02-05T21:04:14.365Z"
   },
   {
    "duration": 15,
    "start_time": "2023-02-05T21:04:27.186Z"
   },
   {
    "duration": 36,
    "start_time": "2023-02-05T21:04:42.485Z"
   },
   {
    "duration": 46,
    "start_time": "2023-02-05T21:05:02.977Z"
   },
   {
    "duration": 10,
    "start_time": "2023-02-05T21:06:16.320Z"
   },
   {
    "duration": 14,
    "start_time": "2023-02-05T21:06:18.108Z"
   },
   {
    "duration": 35,
    "start_time": "2023-02-05T21:06:20.243Z"
   },
   {
    "duration": 46,
    "start_time": "2023-02-05T21:06:22.778Z"
   },
   {
    "duration": 4,
    "start_time": "2023-02-05T21:18:15.582Z"
   },
   {
    "duration": 25,
    "start_time": "2023-02-05T21:18:53.604Z"
   },
   {
    "duration": 3,
    "start_time": "2023-02-05T21:19:39.035Z"
   },
   {
    "duration": 5,
    "start_time": "2023-02-05T21:19:54.845Z"
   },
   {
    "duration": 526,
    "start_time": "2023-02-05T21:19:56.188Z"
   },
   {
    "duration": 4,
    "start_time": "2023-02-05T21:21:09.240Z"
   },
   {
    "duration": 448,
    "start_time": "2023-02-05T21:21:10.446Z"
   },
   {
    "duration": 5,
    "start_time": "2023-02-05T21:22:10.144Z"
   },
   {
    "duration": 382,
    "start_time": "2023-02-05T21:22:11.527Z"
   },
   {
    "duration": 4,
    "start_time": "2023-02-05T21:22:54.664Z"
   },
   {
    "duration": 443,
    "start_time": "2023-02-05T21:22:55.751Z"
   },
   {
    "duration": 433,
    "start_time": "2023-02-05T21:23:21.578Z"
   },
   {
    "duration": 502,
    "start_time": "2023-02-05T21:24:00.195Z"
   },
   {
    "duration": 6,
    "start_time": "2023-02-05T21:25:06.840Z"
   },
   {
    "duration": 408,
    "start_time": "2023-02-05T21:25:07.885Z"
   },
   {
    "duration": 369,
    "start_time": "2023-02-05T21:25:37.330Z"
   },
   {
    "duration": 433,
    "start_time": "2023-02-05T21:26:57.075Z"
   },
   {
    "duration": 4,
    "start_time": "2023-02-05T21:27:23.631Z"
   },
   {
    "duration": 866,
    "start_time": "2023-02-05T21:27:24.284Z"
   },
   {
    "duration": 9,
    "start_time": "2023-02-05T21:27:25.771Z"
   },
   {
    "duration": 13,
    "start_time": "2023-02-05T21:27:26.390Z"
   },
   {
    "duration": 42,
    "start_time": "2023-02-05T21:27:27.186Z"
   },
   {
    "duration": 54,
    "start_time": "2023-02-05T21:27:27.956Z"
   },
   {
    "duration": 10,
    "start_time": "2023-02-05T21:27:29.256Z"
   },
   {
    "duration": 14,
    "start_time": "2023-02-05T21:27:29.914Z"
   },
   {
    "duration": 38,
    "start_time": "2023-02-05T21:27:30.612Z"
   },
   {
    "duration": 56,
    "start_time": "2023-02-05T21:27:31.198Z"
   },
   {
    "duration": 8,
    "start_time": "2023-02-05T21:27:32.526Z"
   },
   {
    "duration": 22,
    "start_time": "2023-02-05T21:27:33.158Z"
   },
   {
    "duration": 43,
    "start_time": "2023-02-05T21:27:33.917Z"
   },
   {
    "duration": 47,
    "start_time": "2023-02-05T21:27:34.548Z"
   },
   {
    "duration": 6,
    "start_time": "2023-02-05T21:27:37.760Z"
   },
   {
    "duration": 241,
    "start_time": "2023-02-05T21:27:38.957Z"
   },
   {
    "duration": 5,
    "start_time": "2023-02-05T21:28:22.480Z"
   },
   {
    "duration": 262,
    "start_time": "2023-02-05T21:28:23.737Z"
   },
   {
    "duration": 363,
    "start_time": "2023-02-05T21:29:41.835Z"
   },
   {
    "duration": 11,
    "start_time": "2023-02-05T21:29:49.116Z"
   },
   {
    "duration": 446,
    "start_time": "2023-02-05T21:29:57.848Z"
   },
   {
    "duration": 10,
    "start_time": "2023-02-05T21:30:18.677Z"
   },
   {
    "duration": 320,
    "start_time": "2023-02-05T21:30:38.784Z"
   },
   {
    "duration": 5,
    "start_time": "2023-02-05T21:31:00.484Z"
   },
   {
    "duration": 486,
    "start_time": "2023-02-05T21:31:11.007Z"
   },
   {
    "duration": 365,
    "start_time": "2023-02-05T21:33:45.730Z"
   },
   {
    "duration": 5,
    "start_time": "2023-02-05T21:34:18.395Z"
   },
   {
    "duration": 24,
    "start_time": "2023-02-05T21:34:19.177Z"
   },
   {
    "duration": 10,
    "start_time": "2023-02-05T21:35:22.614Z"
   },
   {
    "duration": 22,
    "start_time": "2023-02-05T21:35:40.462Z"
   },
   {
    "duration": 5,
    "start_time": "2023-02-05T21:35:54.983Z"
   },
   {
    "duration": 452,
    "start_time": "2023-02-05T21:36:01.193Z"
   },
   {
    "duration": 13,
    "start_time": "2023-02-05T21:36:04.236Z"
   },
   {
    "duration": 22,
    "start_time": "2023-02-05T21:36:05.336Z"
   },
   {
    "duration": 46,
    "start_time": "2023-02-05T21:36:06.191Z"
   },
   {
    "duration": 49,
    "start_time": "2023-02-05T21:36:07.066Z"
   },
   {
    "duration": 9,
    "start_time": "2023-02-05T21:36:08.593Z"
   },
   {
    "duration": 16,
    "start_time": "2023-02-05T21:36:09.186Z"
   },
   {
    "duration": 35,
    "start_time": "2023-02-05T21:36:09.773Z"
   },
   {
    "duration": 44,
    "start_time": "2023-02-05T21:36:10.235Z"
   },
   {
    "duration": 10,
    "start_time": "2023-02-05T21:36:11.210Z"
   },
   {
    "duration": 20,
    "start_time": "2023-02-05T21:36:11.635Z"
   },
   {
    "duration": 43,
    "start_time": "2023-02-05T21:36:12.113Z"
   },
   {
    "duration": 49,
    "start_time": "2023-02-05T21:36:12.526Z"
   },
   {
    "duration": 5,
    "start_time": "2023-02-05T21:36:14.381Z"
   },
   {
    "duration": 25,
    "start_time": "2023-02-05T21:36:14.845Z"
   },
   {
    "duration": 4,
    "start_time": "2023-02-05T21:36:39.596Z"
   },
   {
    "duration": 397,
    "start_time": "2023-02-05T21:36:40.143Z"
   },
   {
    "duration": 9,
    "start_time": "2023-02-05T21:36:41.075Z"
   },
   {
    "duration": 14,
    "start_time": "2023-02-05T21:36:41.576Z"
   },
   {
    "duration": 44,
    "start_time": "2023-02-05T21:36:41.952Z"
   },
   {
    "duration": 48,
    "start_time": "2023-02-05T21:36:42.365Z"
   },
   {
    "duration": 12,
    "start_time": "2023-02-05T21:36:43.216Z"
   },
   {
    "duration": 19,
    "start_time": "2023-02-05T21:36:43.645Z"
   },
   {
    "duration": 44,
    "start_time": "2023-02-05T21:36:44.116Z"
   },
   {
    "duration": 47,
    "start_time": "2023-02-05T21:36:44.565Z"
   },
   {
    "duration": 11,
    "start_time": "2023-02-05T21:36:45.437Z"
   },
   {
    "duration": 18,
    "start_time": "2023-02-05T21:36:45.913Z"
   },
   {
    "duration": 43,
    "start_time": "2023-02-05T21:36:46.346Z"
   },
   {
    "duration": 44,
    "start_time": "2023-02-05T21:36:46.756Z"
   },
   {
    "duration": 5,
    "start_time": "2023-02-05T21:36:48.570Z"
   },
   {
    "duration": 430,
    "start_time": "2023-02-05T21:36:49.076Z"
   },
   {
    "duration": 4,
    "start_time": "2023-02-05T21:37:42.558Z"
   },
   {
    "duration": 255,
    "start_time": "2023-02-05T21:37:45.345Z"
   },
   {
    "duration": 5,
    "start_time": "2023-02-05T21:38:03.117Z"
   },
   {
    "duration": 443,
    "start_time": "2023-02-05T21:38:04.157Z"
   },
   {
    "duration": 5,
    "start_time": "2023-02-05T21:38:28.437Z"
   },
   {
    "duration": 411,
    "start_time": "2023-02-05T21:38:29.983Z"
   },
   {
    "duration": 4,
    "start_time": "2023-02-05T21:38:55.945Z"
   },
   {
    "duration": 442,
    "start_time": "2023-02-05T21:38:57.774Z"
   },
   {
    "duration": 387,
    "start_time": "2023-02-05T21:39:32.018Z"
   },
   {
    "duration": 244,
    "start_time": "2023-02-05T21:39:47.156Z"
   },
   {
    "duration": 377,
    "start_time": "2023-02-05T21:40:06.225Z"
   },
   {
    "duration": 458,
    "start_time": "2023-02-05T21:40:21.239Z"
   },
   {
    "duration": 414,
    "start_time": "2023-02-05T21:40:26.086Z"
   },
   {
    "duration": 3,
    "start_time": "2023-02-05T21:44:18.716Z"
   },
   {
    "duration": 20,
    "start_time": "2023-02-05T21:46:56.893Z"
   },
   {
    "duration": 9,
    "start_time": "2023-02-05T21:48:35.956Z"
   },
   {
    "duration": 16,
    "start_time": "2023-02-05T21:49:13.937Z"
   },
   {
    "duration": 12,
    "start_time": "2023-02-05T21:49:26.378Z"
   },
   {
    "duration": 11,
    "start_time": "2023-02-05T21:49:45.333Z"
   },
   {
    "duration": 11,
    "start_time": "2023-02-05T21:49:57.176Z"
   },
   {
    "duration": 1516,
    "start_time": "2023-02-06T10:39:03.748Z"
   },
   {
    "duration": 1532,
    "start_time": "2023-02-06T10:39:05.266Z"
   },
   {
    "duration": 13,
    "start_time": "2023-02-06T10:39:06.801Z"
   },
   {
    "duration": 15,
    "start_time": "2023-02-06T10:39:08.482Z"
   },
   {
    "duration": 36,
    "start_time": "2023-02-06T10:39:10.637Z"
   },
   {
    "duration": 41,
    "start_time": "2023-02-06T10:39:12.372Z"
   },
   {
    "duration": 10,
    "start_time": "2023-02-06T10:39:17.024Z"
   },
   {
    "duration": 16,
    "start_time": "2023-02-06T10:39:19.063Z"
   },
   {
    "duration": 33,
    "start_time": "2023-02-06T10:39:20.847Z"
   },
   {
    "duration": 40,
    "start_time": "2023-02-06T10:39:22.631Z"
   },
   {
    "duration": 9,
    "start_time": "2023-02-06T10:39:26.103Z"
   },
   {
    "duration": 15,
    "start_time": "2023-02-06T10:39:27.682Z"
   },
   {
    "duration": 34,
    "start_time": "2023-02-06T10:39:29.301Z"
   },
   {
    "duration": 41,
    "start_time": "2023-02-06T10:39:30.440Z"
   },
   {
    "duration": 5,
    "start_time": "2023-02-06T10:40:00.132Z"
   },
   {
    "duration": 378,
    "start_time": "2023-02-06T10:40:01.781Z"
   },
   {
    "duration": 11,
    "start_time": "2023-02-06T10:40:05.393Z"
   },
   {
    "duration": 29,
    "start_time": "2023-02-06T10:57:02.816Z"
   },
   {
    "duration": 7,
    "start_time": "2023-02-06T10:57:23.380Z"
   },
   {
    "duration": 141,
    "start_time": "2023-02-06T10:57:24.880Z"
   },
   {
    "duration": 4,
    "start_time": "2023-02-06T10:58:27.673Z"
   },
   {
    "duration": 383,
    "start_time": "2023-02-06T10:58:28.516Z"
   },
   {
    "duration": 9,
    "start_time": "2023-02-06T10:58:30.750Z"
   },
   {
    "duration": 15,
    "start_time": "2023-02-06T10:58:31.724Z"
   },
   {
    "duration": 35,
    "start_time": "2023-02-06T10:58:33.108Z"
   },
   {
    "duration": 42,
    "start_time": "2023-02-06T10:58:34.127Z"
   },
   {
    "duration": 9,
    "start_time": "2023-02-06T10:58:35.702Z"
   },
   {
    "duration": 15,
    "start_time": "2023-02-06T10:58:36.653Z"
   },
   {
    "duration": 35,
    "start_time": "2023-02-06T10:58:37.297Z"
   },
   {
    "duration": 41,
    "start_time": "2023-02-06T10:58:37.982Z"
   },
   {
    "duration": 10,
    "start_time": "2023-02-06T10:58:39.242Z"
   },
   {
    "duration": 21,
    "start_time": "2023-02-06T10:58:39.800Z"
   },
   {
    "duration": 45,
    "start_time": "2023-02-06T10:58:40.449Z"
   },
   {
    "duration": 40,
    "start_time": "2023-02-06T10:58:41.090Z"
   },
   {
    "duration": 26,
    "start_time": "2023-02-06T10:58:41.721Z"
   },
   {
    "duration": 4,
    "start_time": "2023-02-06T10:58:45.835Z"
   },
   {
    "duration": 17,
    "start_time": "2023-02-06T10:58:46.816Z"
   },
   {
    "duration": 5,
    "start_time": "2023-02-06T10:59:25.198Z"
   },
   {
    "duration": 520,
    "start_time": "2023-02-06T10:59:26.132Z"
   },
   {
    "duration": 3,
    "start_time": "2023-02-06T11:16:31.455Z"
   },
   {
    "duration": 10,
    "start_time": "2023-02-06T11:17:22.578Z"
   },
   {
    "duration": 382,
    "start_time": "2023-02-06T11:20:11.579Z"
   },
   {
    "duration": 18,
    "start_time": "2023-02-06T11:21:26.112Z"
   },
   {
    "duration": 12,
    "start_time": "2023-02-06T11:22:03.896Z"
   },
   {
    "duration": 13,
    "start_time": "2023-02-06T11:22:39.825Z"
   },
   {
    "duration": 6,
    "start_time": "2023-02-06T11:23:26.434Z"
   },
   {
    "duration": 4,
    "start_time": "2023-02-06T11:27:33.245Z"
   },
   {
    "duration": 3,
    "start_time": "2023-02-06T11:27:37.707Z"
   },
   {
    "duration": 7,
    "start_time": "2023-02-06T11:28:03.762Z"
   },
   {
    "duration": 129,
    "start_time": "2023-02-06T11:29:07.321Z"
   },
   {
    "duration": 460,
    "start_time": "2023-02-06T11:29:42.807Z"
   },
   {
    "duration": 8,
    "start_time": "2023-02-06T11:30:18.590Z"
   },
   {
    "duration": 16,
    "start_time": "2023-02-06T11:31:28.940Z"
   },
   {
    "duration": 11,
    "start_time": "2023-02-06T11:32:22.922Z"
   },
   {
    "duration": 11,
    "start_time": "2023-02-06T11:33:08.197Z"
   },
   {
    "duration": 11,
    "start_time": "2023-02-06T11:35:34.621Z"
   },
   {
    "duration": 82,
    "start_time": "2023-02-06T11:35:47.075Z"
   },
   {
    "duration": 97,
    "start_time": "2023-02-06T11:36:52.953Z"
   },
   {
    "duration": 38,
    "start_time": "2023-02-06T11:37:43.513Z"
   },
   {
    "duration": 103,
    "start_time": "2023-02-06T11:39:07.447Z"
   },
   {
    "duration": 7,
    "start_time": "2023-02-06T11:39:51.166Z"
   },
   {
    "duration": 94,
    "start_time": "2023-02-06T11:40:15.854Z"
   },
   {
    "duration": 30,
    "start_time": "2023-02-06T11:40:32.806Z"
   },
   {
    "duration": 1492,
    "start_time": "2023-02-06T20:21:10.055Z"
   },
   {
    "duration": 1503,
    "start_time": "2023-02-06T20:21:11.549Z"
   },
   {
    "duration": 14,
    "start_time": "2023-02-06T20:21:13.053Z"
   },
   {
    "duration": 17,
    "start_time": "2023-02-06T20:21:13.069Z"
   },
   {
    "duration": 39,
    "start_time": "2023-02-06T20:21:15.487Z"
   },
   {
    "duration": 42,
    "start_time": "2023-02-06T20:21:16.150Z"
   },
   {
    "duration": 9,
    "start_time": "2023-02-06T20:21:17.628Z"
   },
   {
    "duration": 14,
    "start_time": "2023-02-06T20:21:18.310Z"
   },
   {
    "duration": 35,
    "start_time": "2023-02-06T20:21:18.879Z"
   },
   {
    "duration": 42,
    "start_time": "2023-02-06T20:21:19.418Z"
   },
   {
    "duration": 9,
    "start_time": "2023-02-06T20:21:20.737Z"
   },
   {
    "duration": 14,
    "start_time": "2023-02-06T20:21:21.297Z"
   },
   {
    "duration": 34,
    "start_time": "2023-02-06T20:21:22.427Z"
   },
   {
    "duration": 46,
    "start_time": "2023-02-06T20:21:23.751Z"
   },
   {
    "duration": 23,
    "start_time": "2023-02-06T20:21:29.306Z"
   },
   {
    "duration": 114,
    "start_time": "2023-02-06T20:22:02.527Z"
   },
   {
    "duration": 5,
    "start_time": "2023-02-06T20:22:18.652Z"
   },
   {
    "duration": 375,
    "start_time": "2023-02-06T20:22:19.305Z"
   },
   {
    "duration": 9,
    "start_time": "2023-02-06T20:22:20.586Z"
   },
   {
    "duration": 13,
    "start_time": "2023-02-06T20:22:21.138Z"
   },
   {
    "duration": 52,
    "start_time": "2023-02-06T20:22:21.657Z"
   },
   {
    "duration": 51,
    "start_time": "2023-02-06T20:22:22.231Z"
   },
   {
    "duration": 10,
    "start_time": "2023-02-06T20:22:23.297Z"
   },
   {
    "duration": 17,
    "start_time": "2023-02-06T20:22:23.738Z"
   },
   {
    "duration": 34,
    "start_time": "2023-02-06T20:22:24.178Z"
   },
   {
    "duration": 39,
    "start_time": "2023-02-06T20:22:24.530Z"
   },
   {
    "duration": 9,
    "start_time": "2023-02-06T20:22:25.331Z"
   },
   {
    "duration": 14,
    "start_time": "2023-02-06T20:22:25.800Z"
   },
   {
    "duration": 40,
    "start_time": "2023-02-06T20:22:26.326Z"
   },
   {
    "duration": 54,
    "start_time": "2023-02-06T20:22:26.751Z"
   },
   {
    "duration": 8,
    "start_time": "2023-02-06T20:22:27.241Z"
   },
   {
    "duration": 4,
    "start_time": "2023-02-06T20:22:31.611Z"
   },
   {
    "duration": 363,
    "start_time": "2023-02-06T20:22:32.892Z"
   },
   {
    "duration": 401,
    "start_time": "2023-02-06T20:22:34.856Z"
   },
   {
    "duration": 4,
    "start_time": "2023-02-06T20:22:46.169Z"
   },
   {
    "duration": 10,
    "start_time": "2023-02-06T20:23:27.057Z"
   },
   {
    "duration": 4,
    "start_time": "2023-02-06T20:23:38.659Z"
   },
   {
    "duration": 3,
    "start_time": "2023-02-06T20:23:42.505Z"
   },
   {
    "duration": 4,
    "start_time": "2023-02-06T20:23:59.372Z"
   },
   {
    "duration": 4,
    "start_time": "2023-02-06T20:25:52.725Z"
   },
   {
    "duration": 4,
    "start_time": "2023-02-06T20:25:53.784Z"
   },
   {
    "duration": 4,
    "start_time": "2023-02-06T20:27:30.556Z"
   },
   {
    "duration": 4,
    "start_time": "2023-02-06T20:27:46.345Z"
   },
   {
    "duration": 4,
    "start_time": "2023-02-06T20:27:59.976Z"
   },
   {
    "duration": 4,
    "start_time": "2023-02-06T20:28:12.722Z"
   },
   {
    "duration": 5,
    "start_time": "2023-02-06T20:28:13.742Z"
   },
   {
    "duration": 4,
    "start_time": "2023-02-06T20:28:21.387Z"
   },
   {
    "duration": 4,
    "start_time": "2023-02-06T20:28:59.793Z"
   },
   {
    "duration": 4,
    "start_time": "2023-02-06T20:30:43.021Z"
   },
   {
    "duration": 5,
    "start_time": "2023-02-06T20:30:44.659Z"
   },
   {
    "duration": 6,
    "start_time": "2023-02-06T20:30:47.099Z"
   },
   {
    "duration": 3,
    "start_time": "2023-02-06T20:31:08.470Z"
   },
   {
    "duration": 4,
    "start_time": "2023-02-06T20:31:10.568Z"
   },
   {
    "duration": 4,
    "start_time": "2023-02-06T20:31:12.550Z"
   },
   {
    "duration": 5,
    "start_time": "2023-02-06T20:31:13.947Z"
   },
   {
    "duration": 4,
    "start_time": "2023-02-06T20:31:55.238Z"
   },
   {
    "duration": 5,
    "start_time": "2023-02-06T20:32:03.018Z"
   },
   {
    "duration": 5,
    "start_time": "2023-02-06T20:32:10.587Z"
   },
   {
    "duration": 5,
    "start_time": "2023-02-06T20:41:37.306Z"
   },
   {
    "duration": 6,
    "start_time": "2023-02-06T20:41:55.606Z"
   },
   {
    "duration": 11,
    "start_time": "2023-02-06T20:43:56.506Z"
   },
   {
    "duration": 11,
    "start_time": "2023-02-06T20:45:20.064Z"
   },
   {
    "duration": 9,
    "start_time": "2023-02-06T20:45:36.605Z"
   },
   {
    "duration": 6,
    "start_time": "2023-02-06T20:47:30.169Z"
   },
   {
    "duration": 4,
    "start_time": "2023-02-06T20:47:54.355Z"
   },
   {
    "duration": 4,
    "start_time": "2023-02-06T20:50:06.978Z"
   },
   {
    "duration": 3,
    "start_time": "2023-02-06T20:51:32.208Z"
   },
   {
    "duration": 3,
    "start_time": "2023-02-06T20:51:43.356Z"
   },
   {
    "duration": 4,
    "start_time": "2023-02-06T20:54:03.714Z"
   },
   {
    "duration": 8,
    "start_time": "2023-02-06T20:54:51.347Z"
   },
   {
    "duration": 7,
    "start_time": "2023-02-06T20:55:13.277Z"
   },
   {
    "duration": 6,
    "start_time": "2023-02-06T20:56:05.949Z"
   },
   {
    "duration": 7,
    "start_time": "2023-02-06T20:56:07.661Z"
   },
   {
    "duration": 3,
    "start_time": "2023-02-06T20:57:28.030Z"
   },
   {
    "duration": 2,
    "start_time": "2023-02-06T20:58:02.942Z"
   },
   {
    "duration": 2,
    "start_time": "2023-02-06T20:58:03.584Z"
   },
   {
    "duration": 3,
    "start_time": "2023-02-06T20:58:04.118Z"
   },
   {
    "duration": 3,
    "start_time": "2023-02-06T20:58:04.683Z"
   },
   {
    "duration": 4,
    "start_time": "2023-02-06T20:58:06.564Z"
   },
   {
    "duration": 6,
    "start_time": "2023-02-06T20:58:08.871Z"
   },
   {
    "duration": 6,
    "start_time": "2023-02-06T20:58:10.707Z"
   },
   {
    "duration": 15,
    "start_time": "2023-02-06T21:07:51.333Z"
   },
   {
    "duration": 3,
    "start_time": "2023-02-06T21:08:50.296Z"
   },
   {
    "duration": 12,
    "start_time": "2023-02-06T21:09:03.507Z"
   },
   {
    "duration": 77,
    "start_time": "2023-02-06T21:11:51.366Z"
   },
   {
    "duration": 13,
    "start_time": "2023-02-06T21:11:53.607Z"
   },
   {
    "duration": 4,
    "start_time": "2023-02-06T21:12:16.212Z"
   },
   {
    "duration": 3287,
    "start_time": "2023-02-06T21:12:21.446Z"
   },
   {
    "duration": 3,
    "start_time": "2023-02-06T21:14:39.450Z"
   },
   {
    "duration": 3275,
    "start_time": "2023-02-06T21:14:40.718Z"
   },
   {
    "duration": 4312,
    "start_time": "2023-02-06T21:16:45.744Z"
   },
   {
    "duration": 4170,
    "start_time": "2023-02-06T21:19:22.114Z"
   },
   {
    "duration": 3,
    "start_time": "2023-02-06T21:21:08.697Z"
   },
   {
    "duration": 364,
    "start_time": "2023-02-06T21:21:09.593Z"
   },
   {
    "duration": 8,
    "start_time": "2023-02-06T21:21:12.454Z"
   },
   {
    "duration": 16,
    "start_time": "2023-02-06T21:21:13.742Z"
   },
   {
    "duration": 38,
    "start_time": "2023-02-06T21:21:15.766Z"
   },
   {
    "duration": 40,
    "start_time": "2023-02-06T21:21:16.845Z"
   },
   {
    "duration": 9,
    "start_time": "2023-02-06T21:21:19.246Z"
   },
   {
    "duration": 14,
    "start_time": "2023-02-06T21:21:20.208Z"
   },
   {
    "duration": 32,
    "start_time": "2023-02-06T21:21:21.212Z"
   },
   {
    "duration": 37,
    "start_time": "2023-02-06T21:21:22.274Z"
   },
   {
    "duration": 9,
    "start_time": "2023-02-06T21:21:24.546Z"
   },
   {
    "duration": 14,
    "start_time": "2023-02-06T21:21:25.565Z"
   },
   {
    "duration": 33,
    "start_time": "2023-02-06T21:21:26.634Z"
   },
   {
    "duration": 39,
    "start_time": "2023-02-06T21:21:27.646Z"
   },
   {
    "duration": 11,
    "start_time": "2023-02-06T21:21:29.013Z"
   },
   {
    "duration": 5,
    "start_time": "2023-02-06T21:21:39.913Z"
   },
   {
    "duration": 345,
    "start_time": "2023-02-06T21:21:41.814Z"
   },
   {
    "duration": 367,
    "start_time": "2023-02-06T21:21:43.586Z"
   },
   {
    "duration": 3,
    "start_time": "2023-02-06T21:21:54.055Z"
   },
   {
    "duration": 6,
    "start_time": "2023-02-06T21:22:02.917Z"
   },
   {
    "duration": 5,
    "start_time": "2023-02-06T21:22:18.247Z"
   },
   {
    "duration": 4,
    "start_time": "2023-02-06T21:22:26.456Z"
   },
   {
    "duration": 4,
    "start_time": "2023-02-06T21:22:30.045Z"
   },
   {
    "duration": 4,
    "start_time": "2023-02-06T21:22:31.674Z"
   },
   {
    "duration": 4,
    "start_time": "2023-02-06T21:22:32.776Z"
   },
   {
    "duration": 2,
    "start_time": "2023-02-06T21:23:08.033Z"
   },
   {
    "duration": 3,
    "start_time": "2023-02-06T21:23:08.734Z"
   },
   {
    "duration": 3,
    "start_time": "2023-02-06T21:23:09.375Z"
   },
   {
    "duration": 3,
    "start_time": "2023-02-06T21:23:11.157Z"
   },
   {
    "duration": 3,
    "start_time": "2023-02-06T21:23:12.948Z"
   },
   {
    "duration": 7,
    "start_time": "2023-02-06T21:23:16.215Z"
   },
   {
    "duration": 6,
    "start_time": "2023-02-06T21:23:17.715Z"
   },
   {
    "duration": 6,
    "start_time": "2023-02-06T21:23:18.715Z"
   },
   {
    "duration": 3,
    "start_time": "2023-02-06T21:23:32.045Z"
   },
   {
    "duration": 3218,
    "start_time": "2023-02-06T21:23:33.249Z"
   },
   {
    "duration": 4,
    "start_time": "2023-02-06T21:47:09.712Z"
   },
   {
    "duration": 361,
    "start_time": "2023-02-06T21:47:10.420Z"
   },
   {
    "duration": 10,
    "start_time": "2023-02-06T21:47:14.250Z"
   },
   {
    "duration": 13,
    "start_time": "2023-02-06T21:47:16.473Z"
   },
   {
    "duration": 34,
    "start_time": "2023-02-06T21:47:18.913Z"
   },
   {
    "duration": 41,
    "start_time": "2023-02-06T21:47:20.137Z"
   },
   {
    "duration": 8,
    "start_time": "2023-02-06T21:47:25.970Z"
   },
   {
    "duration": 14,
    "start_time": "2023-02-06T21:47:27.249Z"
   },
   {
    "duration": 33,
    "start_time": "2023-02-06T21:47:28.866Z"
   },
   {
    "duration": 52,
    "start_time": "2023-02-06T21:47:31.361Z"
   },
   {
    "duration": 9,
    "start_time": "2023-02-06T21:47:34.739Z"
   },
   {
    "duration": 21,
    "start_time": "2023-02-06T21:47:35.858Z"
   },
   {
    "duration": 44,
    "start_time": "2023-02-06T21:47:37.193Z"
   },
   {
    "duration": 40,
    "start_time": "2023-02-06T21:47:39.466Z"
   },
   {
    "duration": 10,
    "start_time": "2023-02-06T21:48:06.332Z"
   },
   {
    "duration": 5,
    "start_time": "2023-02-06T21:48:51.546Z"
   },
   {
    "duration": 471,
    "start_time": "2023-02-06T21:48:53.378Z"
   },
   {
    "duration": 5,
    "start_time": "2023-02-06T21:49:31.954Z"
   },
   {
    "duration": 303,
    "start_time": "2023-02-06T21:49:35.062Z"
   },
   {
    "duration": 496,
    "start_time": "2023-02-06T21:50:22.853Z"
   },
   {
    "duration": 398,
    "start_time": "2023-02-06T21:50:34.973Z"
   },
   {
    "duration": 344,
    "start_time": "2023-02-06T21:53:21.215Z"
   },
   {
    "duration": 4,
    "start_time": "2023-02-06T21:55:50.138Z"
   },
   {
    "duration": 5,
    "start_time": "2023-02-06T21:55:59.342Z"
   },
   {
    "duration": 3,
    "start_time": "2023-02-06T21:56:04.840Z"
   },
   {
    "duration": 6,
    "start_time": "2023-02-06T21:56:23.168Z"
   },
   {
    "duration": 5,
    "start_time": "2023-02-06T21:56:23.793Z"
   },
   {
    "duration": 5,
    "start_time": "2023-02-06T21:56:25.015Z"
   },
   {
    "duration": 5,
    "start_time": "2023-02-06T21:56:26.150Z"
   },
   {
    "duration": 5,
    "start_time": "2023-02-06T21:56:26.914Z"
   },
   {
    "duration": 4,
    "start_time": "2023-02-06T21:56:43.350Z"
   },
   {
    "duration": 7,
    "start_time": "2023-02-06T21:56:48.069Z"
   },
   {
    "duration": 4,
    "start_time": "2023-02-06T21:56:52.172Z"
   },
   {
    "duration": 3,
    "start_time": "2023-02-06T21:57:39.006Z"
   },
   {
    "duration": 3,
    "start_time": "2023-02-06T21:57:40.333Z"
   },
   {
    "duration": 4,
    "start_time": "2023-02-06T21:57:43.035Z"
   },
   {
    "duration": 3,
    "start_time": "2023-02-06T21:57:43.831Z"
   },
   {
    "duration": 4,
    "start_time": "2023-02-06T22:00:10.520Z"
   },
   {
    "duration": 9,
    "start_time": "2023-02-06T22:00:11.616Z"
   },
   {
    "duration": 8,
    "start_time": "2023-02-06T22:00:12.981Z"
   },
   {
    "duration": 7,
    "start_time": "2023-02-06T22:00:14.158Z"
   },
   {
    "duration": 3,
    "start_time": "2023-02-06T22:00:27.582Z"
   },
   {
    "duration": 3225,
    "start_time": "2023-02-06T22:02:07.895Z"
   }
  ],
  "kernelspec": {
   "display_name": "Python 3 (ipykernel)",
   "language": "python",
   "name": "python3"
  },
  "language_info": {
   "codemirror_mode": {
    "name": "ipython",
    "version": 3
   },
   "file_extension": ".py",
   "mimetype": "text/x-python",
   "name": "python",
   "nbconvert_exporter": "python",
   "pygments_lexer": "ipython3",
   "version": "3.9.5"
  },
  "toc": {
   "base_numbering": 1,
   "nav_menu": {},
   "number_sections": true,
   "sideBar": true,
   "skip_h1_title": true,
   "title_cell": "Table of Contents",
   "title_sidebar": "Contents",
   "toc_cell": false,
   "toc_position": {},
   "toc_section_display": true,
   "toc_window_display": false
  }
 },
 "nbformat": 4,
 "nbformat_minor": 2
}
